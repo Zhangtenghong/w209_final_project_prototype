{
 "cells": [
  {
   "cell_type": "code",
   "source": [
    "import csv\n",
    "\n",
    "import wordcloud\n",
    "import pandas as pd # data processing, CSV file I/O (e.g. pd.read_csv)\n",
    "import altair as alt\n",
    "import plotly.express as px\n",
    "# alt.data_transformers.enable('vegafusion')\n"
   ],
   "metadata": {
    "collapsed": false,
    "jupyter": {
     "is_executing": true
    },
    "is_executing": true
   },
   "id": "f22c62a0fdd508d7",
   "outputs": [],
   "execution_count": null
  },
  {
   "cell_type": "markdown",
   "source": [
    "### data loading"
   ],
   "metadata": {
    "collapsed": false
   },
   "id": "e1ad6665c236de3c"
  },
  {
   "cell_type": "code",
   "outputs": [],
   "source": [
    "import io\n",
    "\n",
    "# Read the original CSV content\n",
    "with open('F:/temp/cleaned_reduced_dataset.csv', 'r', encoding='utf-8') as file:\n",
    "    content = file.read()\n",
    "\n",
    "# Replace triple quotes with a single quote character\n",
    "modified_content = content.replace('\"\"\"', '|')\n",
    "\n",
    "# Create an in-memory file-like object with the modified content\n",
    "data = io.StringIO(modified_content)\n",
    "\n",
    "# Read the modified CSV content into a Pandas DataFrame\n",
    "df = pd.read_csv(\n",
    "    data,\n",
    "    quoting=csv.QUOTE_MINIMAL,\n",
    "    quotechar='|'\n",
    ")\n",
    "\n",
    "# Display the DataFrame\n",
    "df['DATE'] = pd.to_datetime(df['DATE'], dayfirst=True)\n",
    "df = df.sort_values(by='DATE')\n",
    "df=df.drop(' index', axis=1)"
   ],
   "metadata": {
    "collapsed": false,
    "is_executing": true
   },
   "id": "b1b729451f5972ab",
   "execution_count": null
  },
  {
   "cell_type": "code",
   "outputs": [],
   "source": [],
   "metadata": {
    "collapsed": false,
    "is_executing": true
   },
   "id": "30e0ec76fc54c7f6",
   "execution_count": null
  },
  {
   "cell_type": "code",
   "outputs": [],
   "source": [
    "def count_words(text):\n",
    "    return len(text.split())\n",
    "\n",
    "# Apply the function to the 'TWEET' column\n",
    "df['WORD_COUNT'] = df['TWEET'].apply(count_words)"
   ],
   "metadata": {
    "collapsed": false,
    "is_executing": true
   },
   "id": "67a9d00de5b9f1aa",
   "execution_count": null
  },
  {
   "cell_type": "code",
   "outputs": [],
   "source": [
    "df_mean = df[['DATE', 'STOCK','1_DAY_RETURN',\t'2_DAY_RETURN',\t'3_DAY_RETURN','7_DAY_RETURN', 'VOLATILITY_10D','VOLATILITY_30D','TEXTBLOB_POLARITY']].drop_duplicates().groupby('DATE')[\n",
    "    ['1_DAY_RETURN',\t'2_DAY_RETURN',\t'3_DAY_RETURN','7_DAY_RETURN', 'VOLATILITY_10D','VOLATILITY_30D','TEXTBLOB_POLARITY']].mean()\n",
    "df_mean.columns = [f\"{x}_mn\" for x in df_mean.columns]\n",
    "df_mean.head()\n",
    "df1 = df.merge(df_mean, on=['DATE'], how = 'right')\n",
    "for col in ['1_DAY_RETURN',\t'2_DAY_RETURN',\t'3_DAY_RETURN','7_DAY_RETURN', 'VOLATILITY_10D','VOLATILITY_30D','TEXTBLOB_POLARITY']:\n",
    "    df1[col] = df1[col]-df1[f'{col}_mn']"
   ],
   "metadata": {
    "collapsed": false,
    "is_executing": true
   },
   "id": "a704d0675cf1f1c9",
   "execution_count": null
  },
  {
   "cell_type": "markdown",
   "source": [
    "# By stock future return by sentiment direction"
   ],
   "metadata": {
    "collapsed": false
   },
   "id": "24c60c001464874d"
  },
  {
   "cell_type": "code",
   "outputs": [],
   "source": [
    "avg_sentiment_by_ticker = df1.groupby('STOCK')[['1_DAY_RETURN','2_DAY_RETURN','3_DAY_RETURN','7_DAY_RETURN','TEXTBLOB_POLARITY']].mean()\n",
    "avg_sentiment_corr_by_ticker = df1.groupby('STOCK').apply(lambda x:x[['1_DAY_RETURN','2_DAY_RETURN','3_DAY_RETURN','7_DAY_RETURN']].corrwith(x['TEXTBLOB_POLARITY']))\n",
    "avg_sentiment_corr_by_ticker.columns = [f\"{x}_Corr_Sentiment\" for x in avg_sentiment_corr_by_ticker.columns]\n",
    "avg_sentiment_by_ticker= pd.concat([avg_sentiment_by_ticker, avg_sentiment_corr_by_ticker], axis=1)\n",
    "\n",
    "# # Filter the dataset to include only tweets with negative sentiment\n",
    "avg_sentiment_by_ticker = avg_sentiment_by_ticker.dropna()\n",
    "\n",
    "# Define a function to remove outliers using IQR\n",
    "def remove_outliers(df, column):\n",
    "    Q1 = df[column].quantile(0.25)\n",
    "    Q3 = df[column].quantile(0.75)\n",
    "    IQR = Q3 - Q1\n",
    "    lower_bound = Q1 - 1.5 * IQR\n",
    "    upper_bound = Q3 + 1.5 * IQR\n",
    "    return df[(df[column] >= lower_bound) & (df[column] <= upper_bound)]\n",
    "\n",
    "# Remove outliers for the sentiment and return columns\n",
    "avg_sentiment_by_ticker = remove_outliers(avg_sentiment_by_ticker.reset_index(), 'TEXTBLOB_POLARITY')\n",
    "avg_sentiment_by_ticker = remove_outliers(avg_sentiment_by_ticker, '1_DAY_RETURN')\n",
    "avg_sentiment_by_ticker = remove_outliers(avg_sentiment_by_ticker, '2_DAY_RETURN')\n",
    "avg_sentiment_by_ticker = remove_outliers(avg_sentiment_by_ticker, '3_DAY_RETURN')\n",
    "avg_sentiment_by_ticker = remove_outliers(avg_sentiment_by_ticker, '7_DAY_RETURN')\n",
    "avg_sentiment_by_ticker.set_index('STOCK', inplace=True)"
   ],
   "metadata": {
    "collapsed": false,
    "is_executing": true
   },
   "id": "42e4c79ebf2f5848",
   "execution_count": null
  },
  {
   "cell_type": "code",
   "outputs": [],
   "source": [
    "df1['sentiment_q'] = pd.qcut(df1['TEXTBLOB_POLARITY'], q=4, labels=[-2,-1,1,2])"
   ],
   "metadata": {
    "collapsed": false,
    "is_executing": true
   },
   "id": "a83ba3a592539a00",
   "execution_count": null
  },
  {
   "cell_type": "code",
   "outputs": [],
   "source": [
    "asq = df1.groupby('sentiment_q')[['1_DAY_RETURN','2_DAY_RETURN','3_DAY_RETURN','7_DAY_RETURN','TEXTBLOB_POLARITY']].median()\n",
    "asq_corr = df1.groupby('sentiment_q').apply(lambda x:x[['1_DAY_RETURN','2_DAY_RETURN','3_DAY_RETURN','7_DAY_RETURN']].corrwith(x['TEXTBLOB_POLARITY']))\n",
    "asq_corr.columns = [f\"{x}_Corr_Sentiment\" for x in asq_corr.columns]\n",
    "asq= pd.concat([asq, asq_corr], axis=1)\n",
    "asqm = asq[['1_DAY_RETURN','2_DAY_RETURN','3_DAY_RETURN','7_DAY_RETURN']].reset_index().melt(id_vars='sentiment_q', var_name='Period', value_name='Return')\n",
    "\n",
    "# Map sentiment_q values to descriptive labels\n",
    "sentiment_labels = {-2: 'very negative', -1: 'slightly negative', 1: 'slightly positive', 2: 'very positive'}\n",
    "# asq['sentiment_label'] = asq['sentiment_q'].map(sentiment_labels)\n",
    "asq['sentiment_label'] = asq.index.map(sentiment_labels)\n",
    "asqm['sentiment_label'] = asqm['sentiment_q'].map(sentiment_labels)\n",
    "\n"
   ],
   "metadata": {
    "collapsed": false,
    "is_executing": true
   },
   "id": "c661b7b1376d2846",
   "execution_count": null
  },
  {
   "cell_type": "code",
   "outputs": [],
   "source": [
    "\n",
    "def create_chart(y_column, title):\n",
    "    points = alt.Chart(avg_sentiment_by_ticker.reset_index()).mark_circle().encode(\n",
    "        x=alt.X('TEXTBLOB_POLARITY:Q', title='Tweet Sentiment',\n",
    "                scale=alt.Scale(domain=[avg_sentiment_by_ticker['TEXTBLOB_POLARITY'].min()-0.01,\n",
    "                                        avg_sentiment_by_ticker['TEXTBLOB_POLARITY'].max()+0.01])),\n",
    "        y=alt.Y(f'{y_column}:Q', title=title, axis=alt.Axis(format='.2%')),\n",
    "        size=alt.Size(f'{y_column}_Corr_Sentiment:Q', title='sentiment.corr',\n",
    "                      scale=alt.Scale(range=[5, 300],\n",
    "                                      domain=[avg_sentiment_by_ticker[f'{y_column}_Corr_Sentiment'].min(),\n",
    "                                              avg_sentiment_by_ticker[f'{y_column}_Corr_Sentiment'].max()]\n",
    "                                      )\n",
    "                      ),\n",
    "        # color=alt.Color('STOCK:N', title='Stock',\n",
    "        #                 # legend=alt.Legend(columns=1),\n",
    "        #                 ),\n",
    "        tooltip=['STOCK:N', 'TEXTBLOB_POLARITY:Q', f'{y_column}:Q', f'{y_column}_Corr_Sentiment:Q']\n",
    "    )\n",
    "\n",
    "    regression_line = points.transform_regression(\n",
    "        'TEXTBLOB_POLARITY', y_column\n",
    "    ).mark_line(color='red')\n",
    "\n",
    "    return (points + regression_line).properties(\n",
    "        # return (points).properties(\n",
    "        # width=600,\n",
    "        # height=300,\n",
    "        title=title\n",
    "\n",
    "    )\n",
    "chart_1_day_n = create_chart('1_DAY_RETURN', '1-Day Future Return')\n",
    "# print(1)\n",
    "chart_2_day_n = create_chart('2_DAY_RETURN', '2-Day Future Return')\n",
    "# print(2)\n",
    "chart_3_day_n = create_chart('3_DAY_RETURN', '3-Day Future Return')\n",
    "# print(3)\n",
    "chart_7_day_n = create_chart('7_DAY_RETURN', '7-Day Future Return')\n",
    "# print(7)"
   ],
   "metadata": {
    "collapsed": false,
    "is_executing": true
   },
   "id": "dfea0bcfb982a48c",
   "execution_count": null
  },
  {
   "cell_type": "code",
   "outputs": [],
   "source": [
    "\n",
    "melted_df = asq.reset_index().melt(\n",
    "    id_vars=['sentiment_q'],\n",
    "    value_vars=['1_DAY_RETURN', '2_DAY_RETURN', '3_DAY_RETURN', '7_DAY_RETURN'],\n",
    "    var_name='Period',\n",
    "    value_name='Return'\n",
    ")\n",
    "# Define color scale for returns\n",
    "color_scale = alt.Scale(\n",
    "    domain=[melted_df['Return'].min(), melted_df['Return'].max()],\n",
    "    range=['purple', 'yellow', 'green']\n",
    ")\n",
    "\n",
    "chart1 = alt.Chart(melted_df).mark_bar().encode(\n",
    "    x=alt.X('Period:N', title='Future Return', sort=['1_DAY_RETURN', '2_DAY_RETURN', '3_DAY_RETURN', '7_DAY_RETURN']),\n",
    "    y=alt.Y('Return:Q', title='Average Return'),\n",
    "    color=alt.Color('Return:Q', scale=color_scale),\n",
    "    column=alt.Column('sentiment_q:N', title='Sentiment Quantile'),\n",
    "    tooltip=['Period', 'Return']\n",
    ").properties(\n",
    "    width=150,\n",
    "    height=300,\n",
    "    title='Return Trajectory by Sentiment Quantile and Period'\n",
    ")"
   ],
   "metadata": {
    "collapsed": false,
    "is_executing": true
   },
   "id": "b089475fb8ed5595",
   "execution_count": null
  },
  {
   "cell_type": "code",
   "outputs": [],
   "source": [
    "# # Map sentiment_q values to descriptive labels\n",
    "# sentiment_labels = {-2: 'very negative', -1: 'slightly negative', 1: 'slightly positive', 2: 'very positive'}\n",
    "# # asq['sentiment_label'] = asq['sentiment_q'].map(sentiment_labels)\n",
    "# asq['sentiment_label'] = asq.index.map(sentiment_labels)\n",
    "\n",
    "# Melt the DataFrame\n",
    "melted_df = asq.reset_index().melt(\n",
    "    id_vars=['sentiment_label'],\n",
    "    value_vars=['1_DAY_RETURN', '2_DAY_RETURN', '3_DAY_RETURN', '7_DAY_RETURN'],\n",
    "    var_name='Period',\n",
    "    value_name='Return'\n",
    ")\n",
    "\n",
    "# Define color scale for returns\n",
    "color_scale = alt.Scale(\n",
    "    domain=[melted_df['Return'].min(), melted_df['Return'].max()],\n",
    "    range=['purple', 'yellow', 'green']\n",
    ")\n",
    "\n",
    "# Create the chart\n",
    "chart1 = alt.Chart(melted_df).mark_bar().encode(\n",
    "    x=alt.X('Period:N', title='Period', sort=['1_DAY_RETURN', '2_DAY_RETURN', '3_DAY_RETURN', '7_DAY_RETURN']),\n",
    "    y=alt.Y('Return:Q', title='Average Future Return'),\n",
    "    color=alt.Color('Return:Q', scale=color_scale),\n",
    "    column=alt.Column('sentiment_label:N', title='Sentiment Level',sort=['very negative', 'slightly negative', 'slightly positive', 'very positive']),\n",
    "    tooltip=['Period', 'Return']\n",
    ").properties(\n",
    "    # width=150,\n",
    "    # height=300,\n",
    "    title='Return Trajectory by Sentiment Level and Period'\n",
    ")\n"
   ],
   "metadata": {
    "collapsed": false,
    "is_executing": true
   },
   "id": "88cc01aeaeb921c6",
   "execution_count": null
  },
  {
   "cell_type": "code",
   "outputs": [],
   "source": [
    "chart2 = alt.Chart(asqm).mark_bar().encode(\n",
    "    x=alt.X('sentiment_label:N', title='Sentiment Level',sort=['very negative', 'slightly negative', 'slightly positive', 'very positive']),\n",
    "    y=alt.Y('Return:Q', title='Average Future Return', axis=alt.Axis(format='.2%')),\n",
    "    color=alt.Color('Return:Q', title='Return', scale=alt.Scale(scheme='viridis')),\n",
    "    column=alt.Column('Period:N', title='Period'),\n",
    "    tooltip=['sentiment_label:N', 'Period:N', alt.Tooltip('Return:Q', format='.2%')]\n",
    ").properties(\n",
    "    # width=150,\n",
    "    # height=300,\n",
    "    title='Return Trajectory by Sentiment Quantile and Period'\n",
    ")\n"
   ],
   "metadata": {
    "collapsed": false,
    "is_executing": true
   },
   "id": "6e8c6204df5598f2",
   "execution_count": null
  },
  {
   "cell_type": "code",
   "outputs": [],
   "source": [
    "        \n",
    "chart3 = alt.vconcat(\n",
    "    alt.hconcat(chart1.properties(width=100), chart_1_day_n.properties(width=400), chart_2_day_n.properties(width=400)),\n",
    "    alt.hconcat(chart2.properties(width=100), chart_3_day_n.properties(width=400), chart_7_day_n.properties(width=400))\n",
    "# ).resolve_legend(\n",
    "#     color=\"independent\"\n",
    "# ).resolve_scale(\n",
    "#     color=\"independent\"\n",
    ").properties(\n",
    "    title={\n",
    "        \"text\": [\"Sentiment Analysis\"],\n",
    "        \"fontSize\": 18,\n",
    "        \"anchor\": \"middle\",\n",
    "        \"color\": \"black\"\n",
    "    },\n",
    ").configure_title(\n",
    "    fontSize=12,\n",
    "    anchor='middle'\n",
    ").configure_axis(\n",
    "    labelFontSize=12,\n",
    "    titleFontSize=10\n",
    ")\n",
    "\n",
    "chart3\n"
   ],
   "metadata": {
    "collapsed": false,
    "is_executing": true
   },
   "id": "92363efeadec4227",
   "execution_count": null
  },
  {
   "cell_type": "markdown",
   "source": [
    "## Single Stock "
   ],
   "metadata": {
    "collapsed": false
   },
   "id": "707ec6615c03b1b9"
  },
  {
   "cell_type": "code",
   "outputs": [],
   "source": [
    "df1.shape"
   ],
   "metadata": {
    "collapsed": false,
    "is_executing": true
   },
   "id": "e61db2b383670807",
   "execution_count": null
  },
  {
   "cell_type": "code",
   "outputs": [],
   "source": [
    "df2 = df1.groupby(['DATE','STOCK'])[['LAST_PRICE', '1_DAY_RETURN', '2_DAY_RETURN',\n",
    "'3_DAY_RETURN', '7_DAY_RETURN', 'PX_VOLUME', 'VOLATILITY_10D','VOLATILITY_30D', 'LSTM_POLARITY', 'TEXTBLOB_POLARITY', 'WORD_COUNT']].mean().reset_index()"
   ],
   "metadata": {
    "collapsed": false,
    "is_executing": true
   },
   "id": "ff0bccbcbe92c130",
   "execution_count": null
  },
  {
   "cell_type": "code",
   "outputs": [],
   "source": [
    "# Stock selector\n",
    "stock_selection = alt.binding_select(options=df2['STOCK'].unique().tolist(), name='Company')\n",
    "stock_select = alt.selection_single(fields=['STOCK'], bind=stock_selection, name='Select', empty='none')\n",
    "\n",
    "# Define the base chart for the stock price\n",
    "base_price = alt.Chart(df2).mark_line().encode(\n",
    "    x=alt.X('DATE:T', title='Date'),\n",
    "    y=alt.Y('LAST_PRICE:Q', title='Closing Price ($)'),\n",
    "    color=alt.Color('STOCK:N', legend=None)\n",
    ").transform_filter(\n",
    "    stock_select\n",
    ").properties(\n",
    "    title='Daily Closing Price'\n",
    ")\n",
    "\n",
    "# Define the chart for average sentiment\n",
    "base_sentiment = alt.Chart(df2).mark_line().encode(\n",
    "    x=alt.X('DATE:T', title='Date'),\n",
    "    y=alt.Y('mean(TEXTBLOB_POLARITY):Q', title='Average Sentiment'),\n",
    "    color=alt.Color('STOCK:N', legend=None)\n",
    ").transform_filter(\n",
    "    stock_select\n",
    ").properties(\n",
    "    title='Average Sentiment Over Time'\n",
    ")\n",
    "\n",
    "# Combine the charts horizontally\n",
    "combined_chart = alt.hconcat(\n",
    "    base_price,\n",
    "    base_sentiment\n",
    ").resolve_scale(\n",
    "    y='independent'\n",
    ")\n",
    "\n",
    "# Add the company selector above the charts\n",
    "final_chart = alt.vconcat(\n",
    "    alt.Chart(df2).mark_point().encode().add_selection(stock_select).properties(title='Select a Company'),\n",
    "    combined_chart\n",
    ").configure_title(\n",
    "    fontSize=20,\n",
    "    anchor='middle'\n",
    ").configure_axis(\n",
    "    labelFontSize=12,\n",
    "    titleFontSize=14\n",
    ").configure_legend(\n",
    "    titleFontSize=12,\n",
    "    labelFontSize=10,\n",
    "    symbolSize=80\n",
    ").properties(width=100)\n",
    "\n",
    "final_chart"
   ],
   "metadata": {
    "collapsed": false,
    "is_executing": true
   },
   "id": "522309ee31f5e2b9",
   "execution_count": null
  },
  {
   "cell_type": "code",
   "outputs": [],
   "source": [
    "del combined_chart,base_price,base_sentiment"
   ],
   "metadata": {
    "collapsed": false,
    "is_executing": true
   },
   "id": "5b9634de35af8238",
   "execution_count": null
  }
 ],
 "metadata": {
  "kernelspec": {
   "display_name": "Python 3",
   "language": "python",
   "name": "python3"
  },
  "language_info": {
   "codemirror_mode": {
    "name": "ipython",
    "version": 2
   },
   "file_extension": ".py",
   "mimetype": "text/x-python",
   "name": "python",
   "nbconvert_exporter": "python",
   "pygments_lexer": "ipython2",
   "version": "2.7.6"
  }
 },
 "nbformat": 4,
 "nbformat_minor": 5
}
